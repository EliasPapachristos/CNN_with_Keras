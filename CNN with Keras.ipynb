{
 "cells": [
  {
   "cell_type": "markdown",
   "metadata": {},
   "source": [
    "### Import Keras and Packages"
   ]
  },
  {
   "cell_type": "code",
   "execution_count": 1,
   "metadata": {},
   "outputs": [
    {
     "name": "stderr",
     "output_type": "stream",
     "text": [
      "Using TensorFlow backend.\n"
     ]
    }
   ],
   "source": [
    "import keras\n",
    "from keras.models import Sequential\n",
    "from keras.layers import Dense\n",
    "from keras.utils import to_categorical"
   ]
  },
  {
   "cell_type": "markdown",
   "metadata": {},
   "source": [
    "When working with convolutional neural networks in particular, we will need additional packages."
   ]
  },
  {
   "cell_type": "code",
   "execution_count": 2,
   "metadata": {},
   "outputs": [],
   "source": [
    "from keras.layers.convolutional import Conv2D # to add convolutional layers\n",
    "from keras.layers.convolutional import MaxPooling2D # to add pooling layers\n",
    "from keras.layers import Flatten # to flatten data for fully connected layers"
   ]
  },
  {
   "cell_type": "markdown",
   "metadata": {},
   "source": [
    "### Convolutional Layer with two sets of convolutional and pooling layers"
   ]
  },
  {
   "cell_type": "code",
   "execution_count": 3,
   "metadata": {},
   "outputs": [],
   "source": [
    "# import data\n",
    "from keras.datasets import mnist\n",
    "\n",
    "# load data\n",
    "(X_train, y_train), (X_test, y_test) = mnist.load_data()\n",
    "\n",
    "# reshape to be [samples][pixels][width][height]\n",
    "X_train = X_train.reshape(X_train.shape[0], 28, 28, 1).astype('float32')\n",
    "X_test = X_test.reshape(X_test.shape[0], 28, 28, 1).astype('float32')"
   ]
  },
  {
   "cell_type": "markdown",
   "metadata": {},
   "source": [
    "Let's normalize the pixel values to be between 0 and 1"
   ]
  },
  {
   "cell_type": "code",
   "execution_count": 4,
   "metadata": {},
   "outputs": [],
   "source": [
    "X_train = X_train / 255 # normalize training data\n",
    "X_test = X_test / 255 # normalize test data"
   ]
  },
  {
   "cell_type": "markdown",
   "metadata": {},
   "source": [
    "Next, let's convert the target variable into binary categories"
   ]
  },
  {
   "cell_type": "code",
   "execution_count": 5,
   "metadata": {},
   "outputs": [],
   "source": [
    "y_train = to_categorical(y_train)\n",
    "y_test = to_categorical(y_test)\n",
    "\n",
    "num_classes = y_test.shape[1] # number of categories"
   ]
  },
  {
   "cell_type": "markdown",
   "metadata": {},
   "source": [
    "Next, let's define a function that creates our model. Let's start with one set of convolutional and pooling layers."
   ]
  },
  {
   "cell_type": "code",
   "execution_count": 6,
   "metadata": {},
   "outputs": [],
   "source": [
    "def convolutional_model():\n",
    "    \n",
    "    # create model\n",
    "    model = Sequential()\n",
    "    model.add(Conv2D(16, (5, 5), strides=(1, 1), activation='relu', input_shape=(28, 28, 1)))\n",
    "    model.add(MaxPooling2D(pool_size=(2, 2), strides=(2, 2)))\n",
    "    \n",
    "    model.add(Flatten())\n",
    "    model.add(Dense(100, activation='relu'))\n",
    "    model.add(Dense(num_classes, activation='softmax'))\n",
    "    \n",
    "    # compile model\n",
    "    model.compile(optimizer='adam', loss='categorical_crossentropy',  metrics=['accuracy'])\n",
    "    return model"
   ]
  },
  {
   "cell_type": "markdown",
   "metadata": {},
   "source": [
    "Finally, let's call the function to create the model, and then let's train it and evaluate it."
   ]
  },
  {
   "cell_type": "code",
   "execution_count": 7,
   "metadata": {},
   "outputs": [
    {
     "name": "stdout",
     "output_type": "stream",
     "text": [
      "Train on 60000 samples, validate on 10000 samples\n",
      "Epoch 1/10\n",
      " - 20s - loss: 0.2838 - acc: 0.9206 - val_loss: 0.0945 - val_acc: 0.9730\n",
      "Epoch 2/10\n",
      " - 19s - loss: 0.0844 - acc: 0.9759 - val_loss: 0.0613 - val_acc: 0.9817\n",
      "Epoch 3/10\n",
      " - 19s - loss: 0.0582 - acc: 0.9830 - val_loss: 0.0492 - val_acc: 0.9842\n",
      "Epoch 4/10\n",
      " - 19s - loss: 0.0433 - acc: 0.9870 - val_loss: 0.0451 - val_acc: 0.9851\n",
      "Epoch 5/10\n",
      " - 19s - loss: 0.0371 - acc: 0.9889 - val_loss: 0.0422 - val_acc: 0.9855\n",
      "Epoch 6/10\n",
      " - 19s - loss: 0.0302 - acc: 0.9908 - val_loss: 0.0377 - val_acc: 0.9875\n",
      "Epoch 7/10\n",
      " - 19s - loss: 0.0242 - acc: 0.9926 - val_loss: 0.0365 - val_acc: 0.9872\n",
      "Epoch 8/10\n",
      " - 18s - loss: 0.0211 - acc: 0.9937 - val_loss: 0.0412 - val_acc: 0.9869\n",
      "Epoch 9/10\n",
      " - 19s - loss: 0.0171 - acc: 0.9948 - val_loss: 0.0376 - val_acc: 0.9875\n",
      "Epoch 10/10\n",
      " - 20s - loss: 0.0139 - acc: 0.9959 - val_loss: 0.0475 - val_acc: 0.9863\n",
      "Accuracy: 0.9863 \n",
      " Error: 1.3700000000000045\n"
     ]
    }
   ],
   "source": [
    "# build the model\n",
    "model = convolutional_model()\n",
    "\n",
    "# fit the model\n",
    "model.fit(X_train, y_train, validation_data=(X_test, y_test), epochs=10, batch_size=200, verbose=2)\n",
    "\n",
    "# evaluate the model\n",
    "scores = model.evaluate(X_test, y_test, verbose=0)\n",
    "print(\"Accuracy: {} \\n Error: {}\".format(scores[1], 100-scores[1]*100))"
   ]
  },
  {
   "cell_type": "markdown",
   "metadata": {},
   "source": [
    "### Convolutional Layer with two sets of convolutional and pooling layers\n",
    "\n",
    "Let's redefine our convolutional model so that it has two convolutional and pooling layers instead of just one layer of each."
   ]
  },
  {
   "cell_type": "code",
   "execution_count": 8,
   "metadata": {},
   "outputs": [],
   "source": [
    "def convolutional_model():\n",
    "    \n",
    "    # create model\n",
    "    model = Sequential()\n",
    "    model.add(Conv2D(16, (5, 5), activation='relu', input_shape=(28, 28, 1)))\n",
    "    model.add(MaxPooling2D(pool_size=(2, 2), strides=(2, 2)))\n",
    "    \n",
    "    model.add(Conv2D(8, (2, 2), activation='relu'))\n",
    "    model.add(MaxPooling2D(pool_size=(2, 2), strides=(2, 2)))\n",
    "    \n",
    "    model.add(Flatten())\n",
    "    model.add(Dense(100, activation='relu'))\n",
    "    model.add(Dense(num_classes, activation='softmax'))\n",
    "    \n",
    "    # Compile model\n",
    "    model.compile(optimizer='adam', loss='categorical_crossentropy',  metrics=['accuracy'])\n",
    "    return model"
   ]
  },
  {
   "cell_type": "markdown",
   "metadata": {},
   "source": [
    "Now, let's call the function to create our new convolutional neural network, and then let's train it and evaluate it."
   ]
  },
  {
   "cell_type": "code",
   "execution_count": 9,
   "metadata": {},
   "outputs": [
    {
     "name": "stdout",
     "output_type": "stream",
     "text": [
      "Train on 60000 samples, validate on 10000 samples\n",
      "Epoch 1/10\n",
      " - 21s - loss: 0.4665 - acc: 0.8689 - val_loss: 0.1363 - val_acc: 0.9610\n",
      "Epoch 2/10\n",
      " - 20s - loss: 0.1170 - acc: 0.9654 - val_loss: 0.0812 - val_acc: 0.9758\n",
      "Epoch 3/10\n",
      " - 20s - loss: 0.0817 - acc: 0.9752 - val_loss: 0.0608 - val_acc: 0.9809\n",
      "Epoch 4/10\n",
      " - 20s - loss: 0.0661 - acc: 0.9798 - val_loss: 0.0580 - val_acc: 0.9824\n",
      "Epoch 5/10\n",
      " - 21s - loss: 0.0561 - acc: 0.9826 - val_loss: 0.0493 - val_acc: 0.9834\n",
      "Epoch 6/10\n",
      " - 21s - loss: 0.0495 - acc: 0.9846 - val_loss: 0.0440 - val_acc: 0.9857\n",
      "Epoch 7/10\n",
      " - 19s - loss: 0.0439 - acc: 0.9865 - val_loss: 0.0473 - val_acc: 0.9849\n",
      "Epoch 8/10\n",
      " - 20s - loss: 0.0392 - acc: 0.9881 - val_loss: 0.0564 - val_acc: 0.9821\n",
      "Epoch 9/10\n",
      " - 20s - loss: 0.0350 - acc: 0.9890 - val_loss: 0.0407 - val_acc: 0.9872\n",
      "Epoch 10/10\n",
      " - 20s - loss: 0.0329 - acc: 0.9898 - val_loss: 0.0417 - val_acc: 0.9870\n",
      "Accuracy: 0.987 \n",
      " Error: 1.2999999999999972\n"
     ]
    }
   ],
   "source": [
    "# build the model\n",
    "model = convolutional_model()\n",
    "\n",
    "# fit the model\n",
    "model.fit(X_train, y_train, validation_data=(X_test, y_test), epochs=10, batch_size=200, verbose=2)\n",
    "\n",
    "# evaluate the model\n",
    "scores = model.evaluate(X_test, y_test, verbose=0)\n",
    "print(\"Accuracy: {} \\n Error: {}\".format(scores[1], 100-scores[1]*100))"
   ]
  },
  {
   "cell_type": "code",
   "execution_count": null,
   "metadata": {},
   "outputs": [],
   "source": []
  }
 ],
 "metadata": {
  "kernelspec": {
   "display_name": "Python 3",
   "language": "python",
   "name": "python3"
  },
  "language_info": {
   "codemirror_mode": {
    "name": "ipython",
    "version": 3
   },
   "file_extension": ".py",
   "mimetype": "text/x-python",
   "name": "python",
   "nbconvert_exporter": "python",
   "pygments_lexer": "ipython3",
   "version": "3.6.6"
  }
 },
 "nbformat": 4,
 "nbformat_minor": 2
}
